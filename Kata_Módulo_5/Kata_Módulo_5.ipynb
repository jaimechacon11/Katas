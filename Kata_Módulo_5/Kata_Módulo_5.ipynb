{
 "cells": [
  {
   "cell_type": "markdown",
   "metadata": {},
   "source": [
    "# Ejercicio1 - Utilizar operadores aritméticos"
   ]
  },
  {
   "cell_type": "code",
   "execution_count": 2,
   "metadata": {},
   "outputs": [
    {
     "name": "stdout",
     "output_type": "stream",
     "text": [
      "Distancia en KMS = 628949330 kms\n",
      "Distancia Total en MILLAS = 1012195830.53952 MILLAS\n"
     ]
    }
   ],
   "source": [
    "# Crear variables para almacenar las dos distancias\n",
    "# ¡Asegúrate de quitar las comas!\n",
    "Tierra = 149597870\n",
    "Júpiter = 778547200\n",
    "\n",
    "distancia =  Júpiter - Tierra\n",
    "print(f\"\"\"Distancia en KMS = {distancia} kms\"\"\")\n",
    "\n",
    "total = distancia * 1.609344\n",
    "print(f\"\"\"Distancia Total en MILLAS = {total} MILLAS\"\"\")"
   ]
  },
  {
   "cell_type": "markdown",
   "metadata": {},
   "source": [
    "# Ejercicio 2: convierte cadenas en números y usa valores absolutos"
   ]
  },
  {
   "cell_type": "code",
   "execution_count": 4,
   "metadata": {},
   "outputs": [
    {
     "name": "stdout",
     "output_type": "stream",
     "text": [
      "Distancia Total en MILLAS = 66626841.6 MILLAS\n"
     ]
    }
   ],
   "source": [
    "# Almacenar las entradas del usuario\n",
    "#Pista: variable = input(\"¿Cuál es tu nombre?\")\n",
    "\n",
    "planeta_1 = int(input(\"\"\"Ingresa la distancia del planeta #1 -> \"\"\")) \n",
    "planeta_2 = int(input(\"\"\"Ingresa la distancia del planeta #2 -> \"\"\")) \n",
    "\n",
    "distancia = abs(planeta_2) - abs(planeta_1)\n",
    "\n",
    "total = distancia * 1.609344\n",
    "\n",
    "print(f\"\"\"Distancia Total en MILLAS = {total} MILLAS\"\"\")"
   ]
  }
 ],
 "metadata": {
  "interpreter": {
   "hash": "401b384f31cb6afa31c494afd268ff839d800b629071fa7663df1f113dd4838e"
  },
  "kernelspec": {
   "display_name": "Python 3.9.4 64-bit",
   "language": "python",
   "name": "python3"
  },
  "language_info": {
   "codemirror_mode": {
    "name": "ipython",
    "version": 3
   },
   "file_extension": ".py",
   "mimetype": "text/x-python",
   "name": "python",
   "nbconvert_exporter": "python",
   "pygments_lexer": "ipython3",
   "version": "3.9.4"
  },
  "orig_nbformat": 4
 },
 "nbformat": 4,
 "nbformat_minor": 2
}
