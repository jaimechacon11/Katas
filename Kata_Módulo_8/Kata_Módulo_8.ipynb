{
 "cells": [
  {
   "cell_type": "markdown",
   "metadata": {},
   "source": [
    "# Ejercicio 1: Creación de diccionarios de Python"
   ]
  },
  {
   "cell_type": "code",
   "execution_count": 3,
   "metadata": {},
   "outputs": [
    {
     "name": "stdout",
     "output_type": "stream",
     "text": [
      "El planeta Mars tiene 2 lunas.\n",
      "El planeta Mars tiene 6752 de circunferencia polar.\n",
      "El planeta Mars tiene 6792 de circunferencia equatorial.\n"
     ]
    }
   ],
   "source": [
    "# Crea un diccionario llamado planet con los datos propuestos\n",
    "planet = {\n",
    "    'name': 'Mars',\n",
    "    'moons': '2'\n",
    "}\n",
    "\n",
    "# Muestra el nombre del planeta y el número de lunas que tiene.\n",
    "print(f\"\"\"El planeta {planet['name']} tiene {planet['moons']} lunas.\"\"\")\n",
    "\n",
    "\n",
    "# Agrega la clave circunferencia con los datos proporcionados previamente\n",
    "planet['circunferencia(km)'] = {\n",
    "    'polar': '6752',\n",
    "    'equatorial': '6792'\n",
    "}\n",
    "\n",
    "# Agrega la clave circunferencia con los datos proporcionados previamente\n",
    "print(f\"\"\"El planeta {planet['name']} tiene {planet['circunferencia(km)']['polar']} de circunferencia polar.\"\"\")\n",
    "print(f\"\"\"El planeta {planet['name']} tiene {planet['circunferencia(km)']['equatorial']} de circunferencia equatorial.\"\"\")\n"
   ]
  },
  {
   "cell_type": "markdown",
   "metadata": {},
   "source": [
    "# Ejercicio 2: Programación dinámica con diccionarios"
   ]
  },
  {
   "cell_type": "code",
   "execution_count": 13,
   "metadata": {},
   "outputs": [
    {
     "name": "stdout",
     "output_type": "stream",
     "text": [
      "El total de lunas totales son = 214\n",
      "El promedio es = 18\n"
     ]
    }
   ],
   "source": [
    "# Planets and moons\n",
    "\n",
    "planet_moons = {\n",
    "    'mercury': 0,\n",
    "    'venus': 0,\n",
    "    'earth': 1,\n",
    "    'mars': 2,\n",
    "    'jupiter': 79,\n",
    "    'saturn': 82,\n",
    "    'uranus': 27,\n",
    "    'neptune': 14,\n",
    "    'pluto': 5,\n",
    "    'haumea': 2,\n",
    "    'makemake': 1,\n",
    "    'eris': 1\n",
    "}\n",
    "\n",
    "# Añade el código para determinar el número de lunas.\n",
    "moons = planet_moons.values()\n",
    "planets = len(planet_moons)\n",
    "\n",
    "# Agrega el código para contar el número de lunas. \n",
    "total_moons = 0\n",
    "for conteo in moons:\n",
    "    total_moons = total_moons + conteo\n",
    "\n",
    "print('El total de lunas totales son = {}'.format(total_moons))\n",
    "\n",
    "print(f\"\"\"El promedio es = {round(total_moons/planets)}\"\"\")\n"
   ]
  }
 ],
 "metadata": {
  "interpreter": {
   "hash": "401b384f31cb6afa31c494afd268ff839d800b629071fa7663df1f113dd4838e"
  },
  "kernelspec": {
   "display_name": "Python 3.9.4 64-bit",
   "language": "python",
   "name": "python3"
  },
  "language_info": {
   "codemirror_mode": {
    "name": "ipython",
    "version": 3
   },
   "file_extension": ".py",
   "mimetype": "text/x-python",
   "name": "python",
   "nbconvert_exporter": "python",
   "pygments_lexer": "ipython3",
   "version": "3.9.4"
  },
  "orig_nbformat": 4
 },
 "nbformat": 4,
 "nbformat_minor": 2
}
