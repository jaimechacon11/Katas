{
 "cells": [
  {
   "cell_type": "markdown",
   "metadata": {},
   "source": [
    "# Ejercicio 1: Trabajar con argumentos en funciones"
   ]
  },
  {
   "cell_type": "code",
   "execution_count": 5,
   "metadata": {},
   "outputs": [
    {
     "name": "stdout",
     "output_type": "stream",
     "text": [
      "REPORTE GLOBAL:\n",
      "    Promedio: 33.333333333333336%\n",
      "    Tanque 1: 10%\n",
      "    Tanque 2: 50%\n",
      "    Tanque 3: 40% \n",
      "    \n"
     ]
    }
   ],
   "source": [
    "# Función para leer 3 tanques de combustible y muestre el promedio\n",
    "def combustible (tanque1,tanque2,tanque3):\n",
    "    #promedio = (tanque1 + tanque2 + tanque3) / 3\n",
    "    promedio = fun_prom(tanque1,tanque2,tanque3)\n",
    "    return f\"\"\"REPORTE GLOBAL:\n",
    "    Promedio: {promedio}%\n",
    "    Tanque 1: {tanque1}%\n",
    "    Tanque 2: {tanque2}%\n",
    "    Tanque 3: {tanque3}% \n",
    "    \"\"\"\n",
    "\n",
    "# Función promedio \n",
    "def fun_prom(*args):\n",
    "    suma = sum(args)\n",
    "    total = suma / len(args)\n",
    "    return total\n",
    "\n",
    "\n",
    "# Llamamos a la función que genera el reporte print(funcion(tanque1, tanque2, tanque3))\n",
    "print(combustible(10,50,40))"
   ]
  },
  {
   "cell_type": "markdown",
   "metadata": {},
   "source": [
    "# Ejercicio 2: Trabajo con argumentos de palabra clave"
   ]
  },
  {
   "cell_type": "code",
   "execution_count": 14,
   "metadata": {},
   "outputs": [
    {
     "name": "stdout",
     "output_type": "stream",
     "text": [
      "\n",
      "    Mision con destino a: Tierra\n",
      "    Tiempo total de trayecto: 1101 minutos\n",
      "    Combustible total necesario: 49748 galones\n",
      "    \n",
      " Nombre = tanque1 -> Cantidad = 5600\n",
      " Nombre = tanque2 -> Cantidad = 3800\n",
      " Nombre = tanque3 -> Cantidad = 40348\n"
     ]
    }
   ],
   "source": [
    "# Función con un informe preciso de la misión. Considera hora de prelanzamiento, tiempo de vuelo, destino, tanque externo y tanque interno\n",
    "\n",
    "\n",
    "# def mision(prelanzamiento, tiempo_vuelo, destino, tanque_externo, tanque_interno):\n",
    "#     return f\"\"\"\n",
    "#     Mision con destino a: {destino}\n",
    "#     Tiempo total de trayecto: {prelanzamiento + tiempo_vuelo} minutos\n",
    "#     Combustible total necesario: {tanque_externo + tanque_interno} galones\n",
    "#     \"\"\"\n",
    "\n",
    "#print(mision(506, 51, \"Tierra\", 5600, 3800))\n",
    "\n",
    "#Nuevo informe\n",
    "\n",
    "# def mision(destino,*minutos, **tanques):\n",
    "#     return f\"\"\"\n",
    "#     Mision con destino a: {destino}\n",
    "#     Tiempo total de trayecto: {sum(minutos)} minutos\n",
    "#     Combustible total necesario: {sum(tanques.values())} galones\n",
    "#     \"\"\"\n",
    "\n",
    "#INFORME FINAL\n",
    "def mision(destino,*minutos, **tanques):\n",
    "    extra = f\"\"\"\n",
    "    Mision con destino a: {destino}\n",
    "    Tiempo total de trayecto: {sum(minutos)} minutos\n",
    "    Combustible total necesario: {sum(tanques.values())} galones\n",
    "    \"\"\"\n",
    "    for nombre,valor in tanques.items():\n",
    "        extra += f'\\n Nombre = {nombre} -> Cantidad = {valor}'\n",
    "    return extra\n",
    "\n",
    "print(mision(\"Tierra\",506, 51,544, tanque1=5600, tanque2=3800,tanque3=40348))\n",
    "\n"
   ]
  }
 ],
 "metadata": {
  "interpreter": {
   "hash": "401b384f31cb6afa31c494afd268ff839d800b629071fa7663df1f113dd4838e"
  },
  "kernelspec": {
   "display_name": "Python 3.9.4 64-bit",
   "language": "python",
   "name": "python3"
  },
  "language_info": {
   "codemirror_mode": {
    "name": "ipython",
    "version": 3
   },
   "file_extension": ".py",
   "mimetype": "text/x-python",
   "name": "python",
   "nbconvert_exporter": "python",
   "pygments_lexer": "ipython3",
   "version": "3.9.4"
  },
  "orig_nbformat": 4
 },
 "nbformat": 4,
 "nbformat_minor": 2
}
