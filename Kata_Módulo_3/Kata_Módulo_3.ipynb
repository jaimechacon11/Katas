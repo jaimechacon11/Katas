{
 "cells": [
  {
   "cell_type": "markdown",
   "metadata": {},
   "source": [
    "# Ejercicio - Escribir declaraciones if, else, y elif"
   ]
  },
  {
   "cell_type": "markdown",
   "metadata": {},
   "source": [
    "## Parte 1"
   ]
  },
  {
   "cell_type": "code",
   "execution_count": 4,
   "metadata": {},
   "outputs": [
    {
     "name": "stdout",
     "output_type": "stream",
     "text": [
      "Cuidado la velocidad limite ha sido rebasada\n"
     ]
    }
   ],
   "source": [
    "vel_base = 25\n",
    "vel_asteroide = 49\n",
    "if vel_asteroide > vel_base:\n",
    "    print(\"Cuidado la velocidad limite ha sido rebasada\")\n",
    "else:\n",
    "    print(\"No se ha rebasado la velocidad límite\")"
   ]
  },
  {
   "cell_type": "markdown",
   "metadata": {},
   "source": [
    "## Parte 2"
   ]
  },
  {
   "cell_type": "code",
   "execution_count": 7,
   "metadata": {},
   "outputs": [
    {
     "name": "stdout",
     "output_type": "stream",
     "text": [
      "No puedes ver el rayo\n"
     ]
    }
   ],
   "source": [
    "vel_base = 20\n",
    "vel_asteroide = 19\n",
    "\n",
    "if vel_asteroide > 20:\n",
    "    print(\"Puedes ver el rayo\")\n",
    "elif vel_asteroide == 20:\n",
    "    print(\"Puedes ver el rayo\")\n",
    "else:\n",
    "    print(\"No puedes ver el rayo\")"
   ]
  },
  {
   "cell_type": "markdown",
   "metadata": {},
   "source": [
    "# Ejercicio: Uso de operadores and y or"
   ]
  },
  {
   "cell_type": "code",
   "execution_count": 16,
   "metadata": {},
   "outputs": [
    {
     "name": "stdout",
     "output_type": "stream",
     "text": [
      "CUIDADO CAUSARÁ MUCHO DAÑO\n"
     ]
    }
   ],
   "source": [
    "vel_asteroide = 25\n",
    "tam_asteroide = 40\n",
    "\n",
    "if tam_asteroide > 25 and tam_asteroide < 1000:\n",
    "    print(\"CUIDADO CAUSARÁ MUCHO DAÑO\")\n",
    "else:\n",
    "    if vel_asteroide >= 25:\n",
    "        print(\"Cuidado la velocidad limite ha sido rebasada\")\n",
    "    elif 20 <= vel_asteroide < 25:\n",
    "        print(\"No se ha rebasado la velocidad límite y SI puede ver el rayo\")\n",
    "    else:\n",
    "        print(\"No se ha rebasado la velocidad límite y NO puede ver el rayo\")"
   ]
  }
 ],
 "metadata": {
  "interpreter": {
   "hash": "401b384f31cb6afa31c494afd268ff839d800b629071fa7663df1f113dd4838e"
  },
  "kernelspec": {
   "display_name": "Python 3.9.4 64-bit",
   "language": "python",
   "name": "python3"
  },
  "language_info": {
   "codemirror_mode": {
    "name": "ipython",
    "version": 3
   },
   "file_extension": ".py",
   "mimetype": "text/x-python",
   "name": "python",
   "nbconvert_exporter": "python",
   "pygments_lexer": "ipython3",
   "version": "3.9.4"
  },
  "orig_nbformat": 4
 },
 "nbformat": 4,
 "nbformat_minor": 2
}
