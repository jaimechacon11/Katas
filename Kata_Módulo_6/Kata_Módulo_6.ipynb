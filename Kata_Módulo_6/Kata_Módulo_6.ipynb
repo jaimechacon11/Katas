{
 "cells": [
  {
   "cell_type": "markdown",
   "metadata": {},
   "source": [
    "# Ejercicio1: Crear y usar listas de Python"
   ]
  },
  {
   "cell_type": "code",
   "execution_count": 10,
   "metadata": {},
   "outputs": [
    {
     "name": "stdout",
     "output_type": "stream",
     "text": [
      "El número de planetas es = 8\n",
      "El número de planetas es = 9\n",
      "El último planeta es = Pluto\n"
     ]
    }
   ],
   "source": [
    "# Creamos la lista planets y la mostramos\n",
    "planets = ['Mercury', 'Venus', 'Earth', 'Mars', 'Jupiter', 'Saturn', 'Uranus', 'Neptune']\n",
    "\n",
    "print(f\"\"\"El número de planetas es = {len(planets)}\"\"\")\n",
    "\n",
    "planets.append(\"Pluto\")\n",
    "\n",
    "print(f\"\"\"El número de planetas es = {len(planets)}\"\"\")\n",
    "print(f\"\"\"El último planeta es = {planets[-1]}\"\"\")\n",
    "\n"
   ]
  },
  {
   "cell_type": "markdown",
   "metadata": {},
   "source": [
    "# Ejercicio 2: Trabajando con datos de una lista"
   ]
  },
  {
   "cell_type": "code",
   "execution_count": 7,
   "metadata": {},
   "outputs": [
    {
     "name": "stdout",
     "output_type": "stream",
     "text": [
      "Los planetas mas cercanos al sol antes de \"Mars\" son : ['Mercury', 'Venus', 'Earth']\n",
      "Los planetas mas lejanos al sol despues de \"Mars\" son : ['Jupiter', 'Saturn', 'Neptune']\n"
     ]
    }
   ],
   "source": [
    "# Lista de planetas\n",
    "planets = ['Mercury', 'Venus', 'Earth', 'Mars', 'Jupiter', 'Saturn', 'Neptune']\n",
    "\n",
    "# Solicitamos el nombre de un planeta *Pista:  input()*\n",
    "planet = input(\"Ingresa el nombre del planeta comenzando con mayúscula -> \")\n",
    "\n",
    "lugar = planets.index(planet)\n",
    "\n",
    "print(f\"\"\"Los planetas mas cercanos al sol antes de \"{planet}\" son : {planets[0:lugar]}\"\"\")\n",
    "print(f\"\"\"Los planetas mas lejanos al sol despues de \"{planet}\" son : {planets[lugar+1:]}\"\"\")"
   ]
  }
 ],
 "metadata": {
  "interpreter": {
   "hash": "401b384f31cb6afa31c494afd268ff839d800b629071fa7663df1f113dd4838e"
  },
  "kernelspec": {
   "display_name": "Python 3.9.4 64-bit",
   "language": "python",
   "name": "python3"
  },
  "language_info": {
   "codemirror_mode": {
    "name": "ipython",
    "version": 3
   },
   "file_extension": ".py",
   "mimetype": "text/x-python",
   "name": "python",
   "nbconvert_exporter": "python",
   "pygments_lexer": "ipython3",
   "version": "3.9.4"
  },
  "orig_nbformat": 4
 },
 "nbformat": 4,
 "nbformat_minor": 2
}
