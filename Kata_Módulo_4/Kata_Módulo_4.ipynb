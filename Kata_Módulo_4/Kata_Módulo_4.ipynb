{
 "cells": [
  {
   "cell_type": "markdown",
   "metadata": {},
   "source": [
    "# Ejercicio 1: Transformar cadenas"
   ]
  },
  {
   "cell_type": "code",
   "execution_count": 22,
   "metadata": {},
   "outputs": [
    {
     "name": "stdout",
     "output_type": "stream",
     "text": [
      "['Interesting facts about the Moon', \"The Moon is Earth's only satellite\", 'There are several interesting facts about the Moon and how it affects life here on Earth', '\\nOn average, the Moon moves 4cm away from the Earth every year', 'This yearly drift is not significant enough to cause immediate effects on Earth', 'The highest daylight temperature of the Moon is 127 C.']\n",
      "\n",
      "On average, the Moon moves 4cm away from the Earth every year\n",
      "The highest daylight temperature of the Moon is 127 C.\n",
      "\n",
      "***CAMBIO DE C a CELSIUS ***\n",
      "The highest daylight temperature of the Moon is 127 Celsius.\n"
     ]
    }
   ],
   "source": [
    "text = \"\"\"Interesting facts about the Moon. The Moon is Earth's only satellite. There are several interesting facts about the Moon and how it affects life here on Earth. \n",
    "On average, the Moon moves 4cm away from the Earth every year. This yearly drift is not significant enough to cause immediate effects on Earth. The highest daylight temperature of the Moon is 127 C.\"\"\"\n",
    "\n",
    "separado = text.split(\". \")\n",
    "\n",
    "print(separado)\n",
    "\n",
    "palabras = [\"average\",\"temperature\",\"distance\"]\n",
    "\n",
    "for i in separado:\n",
    "    for j in palabras:\n",
    "        if j in i:\n",
    "            print (i)\n",
    "\n",
    "print(\"\\n***CAMBIO DE C a CELSIUS ***\")\n",
    "\n",
    "for i in separado:\n",
    "    for j in palabras:\n",
    "        if 'C' in i:\n",
    "            aux = i\n",
    "m = i.replace('C','Celsius')\n",
    "print(m)\n",
    "\n"
   ]
  },
  {
   "cell_type": "markdown",
   "metadata": {},
   "source": [
    "# Ejercicio 2: Formateando Cadenas"
   ]
  },
  {
   "cell_type": "code",
   "execution_count": 39,
   "metadata": {},
   "outputs": [
    {
     "name": "stdout",
     "output_type": "stream",
     "text": [
      "\n",
      "Gravity Facts About Moon\n",
      "\n",
      "--------------------------------------------------------------------------------\n",
      "Planet Name: Earth\n",
      "Gravity on Moon: 1.6199999999999999 kms\n",
      "\n",
      "\n",
      "\n",
      "--------------------------------------------------------------------------------\n",
      "Planet Name: Earth\n",
      "Gravity on Moon: 1.6199999999999999 kms\n",
      "\n",
      "\n",
      "Gravity Facts about Ganímedes\n",
      "------------------------------------------------------------------------\n",
      "Planet Name: Marte \n",
      "Gravity on Ganímedes: 1.4300000000000002 kms\n",
      "\n"
     ]
    }
   ],
   "source": [
    "# Datos con los que vas a trabajar\n",
    "name = \"Moon\"\n",
    "gravity = 0.00162 # in kms\n",
    "planet = \"Earth\"\n",
    "\n",
    "#Creamos el título\n",
    "titulo = f'Gravity Facts about {name}'\n",
    "\n",
    "#Plantilla multilínea\n",
    "descripcion = f\"\"\"\n",
    "{'-'*80}\n",
    "Planet Name: {planet}\n",
    "Gravity on {name}: {gravity*1000} kms\n",
    "\"\"\"\n",
    "\n",
    "#Unimos\n",
    "final = f\"\"\"\n",
    "{titulo.title()}\n",
    "{descripcion}\n",
    "\"\"\"\n",
    "print(final)\n",
    "\n",
    "\n",
    "#Datos muestra\n",
    "planeta = 'Marte '\n",
    "gravedad  = 0.00143\n",
    "nombre = 'Ganímedes'\n",
    "\n",
    "print(descripcion)\n",
    "\n",
    "#Nueva plantilla\n",
    "nueva_descripcion = \"\"\"\n",
    "Gravity Facts about {name}\n",
    "------------------------------------------------------------------------\n",
    "Planet Name: {planet}\n",
    "Gravity on {name}: {gravity} kms\n",
    "\"\"\"\n",
    "print(nueva_descripcion.format(planet=planeta,name=nombre,gravity=gravedad*1000))"
   ]
  }
 ],
 "metadata": {
  "interpreter": {
   "hash": "401b384f31cb6afa31c494afd268ff839d800b629071fa7663df1f113dd4838e"
  },
  "kernelspec": {
   "display_name": "Python 3.9.4 64-bit",
   "language": "python",
   "name": "python3"
  },
  "language_info": {
   "codemirror_mode": {
    "name": "ipython",
    "version": 3
   },
   "file_extension": ".py",
   "mimetype": "text/x-python",
   "name": "python",
   "nbconvert_exporter": "python",
   "pygments_lexer": "ipython3",
   "version": "3.9.4"
  },
  "orig_nbformat": 4
 },
 "nbformat": 4,
 "nbformat_minor": 2
}
